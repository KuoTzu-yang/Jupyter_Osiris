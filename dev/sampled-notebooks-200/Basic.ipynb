{
 "cells": [
  {
   "cell_type": "code",
   "execution_count": 1,
   "metadata": {
    "collapsed": false
   },
   "outputs": [
    {
     "data": {
      "text/html": [
       "\n",
       "<style>\n",
       "\n",
       "div.cell { /* Tunes the space between cells */\n",
       "margin-top:1em;\n",
       "margin-bottom:1em;\n",
       "}\n",
       "\n",
       "div.text_cell_render h1 { /* Main titles bigger, centered */\n",
       "font-size: 2.2em;\n",
       "line-height:1.4em;\n",
       "text-align: center;\n",
       "}\n",
       "\n",
       "div.text_cell_render h2 { /*  Parts names nearer from text */\n",
       "margin-bottom: -0.4em;\n",
       "}\n",
       "\n",
       "\n",
       "div.text_cell_render { /* Customize text cells */\n",
       "font-family: 'Times New Roman';\n",
       "font-size:1.2em;\n",
       "line-height:1.5em;\n",
       "padding-left:3em;\n",
       "padding-right:3em;\n",
       "}\n",
       "</style>\n"
      ],
      "text/plain": [
       "<IPython.core.display.HTML object>"
      ]
     },
     "execution_count": 1,
     "metadata": {},
     "output_type": "execute_result"
    }
   ],
   "source": []
  },
  {
   "cell_type": "markdown",
   "metadata": {
    "collapsed": true
   },
   "source": [
    "# 有限自动机\n",
    "## 确定性有限自动机（DFA）\n",
    "DFA:\n",
    "\n",
    "M 是一个五元组：\n",
    "\n",
    "$$ M = (\\Sigma, Q, \\delta, q_{0}, F) $$\n",
    "\n",
    "其中， \n",
    "$ \\Sigma 是输入符号的有穷集合; $\n",
    "\n",
    "Q是状态的有限集合；\n",
    "\n",
    "$ q_{0} \\in Q 是初始状态； $\n",
    "\n",
    "$ F是终止状态集合，F \\subseteq Q；$\n",
    "\n",
    "$ \\delta 是Q与 \\Sigma 的直积 Q \\times \\Sigma 到Q（下一个状态）的映射，它支配着有限状态控制的行为，有时也成为状态转移函数。 $\n"
   ]
  },
  {
   "cell_type": "markdown",
   "metadata": {},
   "source": [
    "# 编辑距离\n",
    "编辑距离（Edit Distance），又称Levenshtein距离，是指两个字串之间，由一个转成另一个所需的最少编辑操作次数。许可的编辑操作包括将一个字符替换成另一个字符，插入一个字符，删除一个字符。一般来说，编辑距离越小，两个串的相似度越大。"
   ]
  },
  {
   "cell_type": "markdown",
   "metadata": {},
   "source": [
    "### 算法说明：\n",
    "假设 $ z[j]( j\\geq 1 )$ 表示含有j个字符的字符串。$ X[m] $ 为拼写错误的字符串，其长度为m，$ Y[n] $ 为与X串可能部分相同的字符串(一个候选），其长度为n。那么，给定两个串X和Y的编辑距离为 $ ed(X[m]，Y[n]) $ ，可以通过下面的循环计算：\n",
    "1. 如果 $ x_{i+1}=y_{j+1} $（两个串的最后一个字母相同），则：\n",
    "    $ ed(X[i+1],Y[j+1]) = ed(X[i],Y[j]) $\n",
    "2. 如果 $ x_i=y_{j+1} $ ，并且 $ x_{i+1}=y_j $（最后两个字符交叉相等），则：\n",
    "    $ ed(X[i+1],Y[j+1]) = 1 + min \\{ ed(X[i-1],Y[j-1])，ed(X[i],Y[j+1])，ed(X[i+1],Y[j]) \\} $\n",
    "3. 其他情况下：\n",
    "    $ ed(X[i+1],Y[j+1]) = 1 + min \\{ ed(X[i],Y[j])，ed(X[i],Y[j+1])，ed(X[i+1],Y[j]) \\} $\n",
    "    \n",
    "其中，\n",
    "* $ ed(X[0],Y[j]) = j (0 \\leq j \\leq n) $ ；\n",
    "* $ ed(X[i],Y[0]) = j (0 \\leq i \\leq m) $ ；\n",
    "* $ ed(X[-1],Y[j]) = ed(X[i],Y[-1]) = max(m,n) $ （边界约定）；\n"
   ]
  },
  {
   "cell_type": "code",
   "execution_count": 3,
   "metadata": {
    "collapsed": false
   },
   "outputs": [],
   "source": [
    "# 算法实现\n",
    "BOUNDARY = 100\n",
    "def EditDistance(str1, str2):\n",
    "    len1 = len(str1)\n",
    "    len2 = len(str2)\n",
    "    \n",
    "    # 假定 len1 <= len2，\n",
    "    if(len1 > len2):\n",
    "        len1, len2, str1, str2 = len2, len1, str2, str1\n",
    "    \n",
    "    if (len1 == 0):\n",
    "        return len2\n",
    "    \n",
    "    distanceMap = {}\n",
    "    for i in range(len1):\n",
    "        for j in range(len2):\n",
    "            # 边界约定\n",
    "            if i == -1 or j == -1:\n",
    "                distanceMap[(i,j)] = BOUNDARY\n",
    "            elif i == 0:\n",
    "                distanceMap[(i,j)] = j\n",
    "            elif j == 0:\n",
    "                distanceMap[(i,j)] = i\n",
    "            elif str1[i] == str2[j]:\n",
    "                distanceMap[(i,j)] = distanceMap[(i-1, j-1)]\n",
    "            elif str1[i] == str2[j-1] and str1[i-1] == str2[j]:\n",
    "                distanceMap[(i,j)] = 1 + min(distanceMap[(i,j-1)], distanceMap[(i-1,j)],distanceMap[(i-2,j-2)])\n",
    "            else:\n",
    "                distanceMap[(i,j)] = 1 + min(distanceMap[(i,j-1)], distanceMap[(i-1,j)],distanceMap[(i-1,j-1)])\n",
    "\n",
    "    return distanceMap[(len1-1, len2-1)]"
   ]
  },
  {
   "cell_type": "code",
   "execution_count": 4,
   "metadata": {
    "collapsed": false
   },
   "outputs": [
    {
     "data": {
      "text/plain": [
       "2"
      ]
     },
     "execution_count": 4,
     "metadata": {},
     "output_type": "execute_result"
    }
   ],
   "source": [
    "# 测试编辑距离\n",
    "EditDistance('repo', 'repost')"
   ]
  },
  {
   "cell_type": "markdown",
   "metadata": {},
   "source": [
    "## 字符串被自动机识别的条件\n",
    "\n",
    "定义一个确定的有限状态机$ R：  R = (A, Q, \\delta, q_{0}, F) $\n",
    "\n",
    "$ 其中Q表示状态，A表示输入字符集（字母表）；\\delta:Q \\times A \\to Q；q_{0} \\ in Q为其实状态；F \\subseteq Q 为终止状态． $\n",
    "\n",
    "$ 如果L \\subseteq A^* 表示有限状态机R定义的语言，t>0　为编辑距离的阈值，那么，一个字符串X[m]\\notin L能够被Ｒ识别的条件是存在非空集合：$\n",
    "\n",
    "$ C = \\{ Y[n] | Y[n] \\in L, ed(X[m], Y[n]) \\leq t \\} $ "
   ]
  },
  {
   "cell_type": "markdown",
   "metadata": {
    "collapsed": false
   },
   "source": [
    "## 剪除编辑距离（剪除距离 cut-off edit distance）\n",
    "\n",
    "度量错误的输入串的子串（可能是局部）与候选正确串之间的最小编辑距离。\n",
    "\n",
    "给定阈值t，寻找所有那些与输入串的编辑距离小于t的候选串。设Y是一局部候选串（拼写正确），其长度为n，X是出错的输入串，其长度为m, 令 l=max(1, n-t), u=min(m,n+t)，那么，剪除距离定义为：\n",
    "\n",
    "$$ cut\\_ed(X[m], Y[n]) = \\displaystyle \\min_{l \\leq i \\leq u} ed(X[i], Y[n]) $$\n",
    "\n"
   ]
  },
  {
   "cell_type": "code",
   "execution_count": 16,
   "metadata": {
    "collapsed": false
   },
   "outputs": [],
   "source": [
    "# 算法实现\n",
    "def CutEditDistance(str1, str2, t):\n",
    "    m = len(str1)\n",
    "    n = len(str2)\n",
    "    l = max(1, n-t)\n",
    "    u = min(m, n+t)\n",
    "    return min([EditDistance(str1[:i],str2) for i in range(l,u+1)])"
   ]
  },
  {
   "cell_type": "code",
   "execution_count": 20,
   "metadata": {
    "collapsed": false
   },
   "outputs": [
    {
     "data": {
      "text/plain": [
       "1"
      ]
     },
     "execution_count": 20,
     "metadata": {},
     "output_type": "execute_result"
    }
   ],
   "source": [
    "# 测试剪除编辑距离\n",
    "CutEditDistance('reprter','repo', 2)"
   ]
  },
  {
   "cell_type": "markdown",
   "metadata": {},
   "source": [
    "有限自动机形成候选串Ｙ的过程构成一个有向图，因此，可以通过稍微修改图的深度优先搜索算法来实现所有Ｙ的生成过程，算法描述如下：\n",
    "\n",
    "    // 将一个空字符串和初始节点压栈　stack\n",
    "    push ((epsilon, q_0));\n",
    "    while stack != null {\n",
    "        // 从栈顶弹出一个部分字串Y_c和状态节点 \n",
    "        pop(Y_c, q_i);\n",
    "        for every q_j, a: delta(q_i, a) = q_j {\n",
    "            //　扩展候选串，把字符a连接到Y_c上\n",
    "            Y = concat(Y_c, a);\n",
    "            if (cut_ed(X[m], Y[n]) <= t )\n",
    "                //　保证剪除距离在限定的范围\n",
    "                push((Y, q_j));\n",
    "            if （(ed(X[m], Y[n]) <= t) and q_j in F）\n",
    "                output(Y);\n",
    "        }\n",
    "    }\n"
   ]
  },
  {
   "cell_type": "code",
   "execution_count": null,
   "metadata": {
    "collapsed": true
   },
   "outputs": [],
   "source": []
  },
  {
   "cell_type": "code",
   "execution_count": 5,
   "metadata": {
    "collapsed": false
   },
   "outputs": [
    {
     "data": {
      "text/html": [
       "\n",
       "<style>\n",
       "\n",
       "div.cell { /* Tunes the space between cells */\n",
       "margin-top:1em;\n",
       "margin-bottom:1em;\n",
       "}\n",
       "\n",
       "div.text_cell_render h1 { /* Main titles bigger, centered */\n",
       "font-size: 2.2em;\n",
       "line-height:1.4em;\n",
       "text-align: center;\n",
       "}\n",
       "\n",
       "div.text_cell_render h2 { /*  Parts names nearer from text */\n",
       "margin-bottom: -0.4em;\n",
       "}\n",
       "\n",
       "\n",
       "div.text_cell_render { /* Customize text cells */\n",
       "font-family: 'Times New Roman';\n",
       "font-size:1.2em;\n",
       "line-height:1.5em;\n",
       "padding-left:3em;\n",
       "padding-right:3em;\n",
       "}\n",
       "</style>\n"
      ],
      "text/plain": [
       "<IPython.core.display.HTML object>"
      ]
     },
     "execution_count": 5,
     "metadata": {},
     "output_type": "execute_result"
    }
   ],
   "source": [
    "from IPython.core.display import HTML\n",
    "HTML(\"\"\"\n",
    "<style>\n",
    "\n",
    "div.cell { /* Tunes the space between cells */\n",
    "margin-top:1em;\n",
    "margin-bottom:1em;\n",
    "}\n",
    "\n",
    "div.text_cell_render h1 { /* Main titles bigger, centered */\n",
    "font-size: 2.2em;\n",
    "line-height:1.4em;\n",
    "text-align: center;\n",
    "}\n",
    "\n",
    "div.text_cell_render h2 { /*  Parts names nearer from text */\n",
    "margin-bottom: -0.4em;\n",
    "}\n",
    "\n",
    "\n",
    "div.text_cell_render { /* Customize text cells */\n",
    "font-family: 'Times New Roman';\n",
    "font-size:1.2em;\n",
    "line-height:1.5em;\n",
    "padding-left:3em;\n",
    "padding-right:3em;\n",
    "}\n",
    "</style>\n",
    "\"\"\")"
   ]
  },
  {
   "cell_type": "code",
   "execution_count": null,
   "metadata": {
    "collapsed": true
   },
   "outputs": [],
   "source": []
  }
 ],
 "metadata": {
  "kernelspec": {
   "display_name": "Python [default]",
   "language": "python",
   "name": "python3"
  },
  "language_info": {
   "codemirror_mode": {
    "name": "ipython",
    "version": 3
   },
   "file_extension": ".py",
   "mimetype": "text/x-python",
   "name": "python",
   "nbconvert_exporter": "python",
   "pygments_lexer": "ipython3",
   "version": "3.5.2"
  }
 },
 "nbformat": 4,
 "nbformat_minor": 2
}
