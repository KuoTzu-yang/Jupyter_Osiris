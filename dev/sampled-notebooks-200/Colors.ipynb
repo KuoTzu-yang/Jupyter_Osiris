{
 "cells": [
  {
   "cell_type": "code",
   "execution_count": 1,
   "metadata": {
    "collapsed": true
   },
   "outputs": [],
   "source": [
    "from ipythonblocks.ipythonblocks import *"
   ]
  },
  {
   "cell_type": "code",
   "execution_count": 10,
   "metadata": {
    "collapsed": false
   },
   "outputs": [
    {
     "name": "stdout",
     "output_type": "stream",
     "text": [
      "Crimson (220, 20, 60)\n"
     ]
    },
    {
     "data": {
      "text/html": [
       "<div style=\"height: 60px; min-width: 200px; background-color: rgb(220, 20, 60)\"></div>"
      ],
      "text/plain": [
       "<IPython.core.display.HTML object>"
      ]
     },
     "metadata": {},
     "output_type": "display_data"
    },
    {
     "name": "stdout",
     "output_type": "stream",
     "text": [
      "LightGreen (144, 238, 144)\n"
     ]
    },
    {
     "data": {
      "text/html": [
       "<div style=\"height: 60px; min-width: 200px; background-color: rgb(144, 238, 144)\"></div>"
      ],
      "text/plain": [
       "<IPython.core.display.HTML object>"
      ]
     },
     "metadata": {},
     "output_type": "display_data"
    },
    {
     "name": "stdout",
     "output_type": "stream",
     "text": [
      "LightSteelBlue (176, 196, 222)\n"
     ]
    },
    {
     "data": {
      "text/html": [
       "<div style=\"height: 60px; min-width: 200px; background-color: rgb(176, 196, 222)\"></div>"
      ],
      "text/plain": [
       "<IPython.core.display.HTML object>"
      ]
     },
     "metadata": {},
     "output_type": "display_data"
    },
    {
     "name": "stdout",
     "output_type": "stream",
     "text": [
      "Chartreuse (127, 255, 0)\n"
     ]
    },
    {
     "data": {
      "text/html": [
       "<div style=\"height: 60px; min-width: 200px; background-color: rgb(127, 255, 0)\"></div>"
      ],
      "text/plain": [
       "<IPython.core.display.HTML object>"
      ]
     },
     "metadata": {},
     "output_type": "display_data"
    },
    {
     "name": "stdout",
     "output_type": "stream",
     "text": [
      "Purple (128, 0, 128)\n"
     ]
    },
    {
     "data": {
      "text/html": [
       "<div style=\"height: 60px; min-width: 200px; background-color: rgb(128, 0, 128)\"></div>"
      ],
      "text/plain": [
       "<IPython.core.display.HTML object>"
      ]
     },
     "metadata": {},
     "output_type": "display_data"
    },
    {
     "name": "stdout",
     "output_type": "stream",
     "text": [
      "DimGray (105, 105, 105)\n"
     ]
    },
    {
     "data": {
      "text/html": [
       "<div style=\"height: 60px; min-width: 200px; background-color: rgb(105, 105, 105)\"></div>"
      ],
      "text/plain": [
       "<IPython.core.display.HTML object>"
      ]
     },
     "metadata": {},
     "output_type": "display_data"
    },
    {
     "name": "stdout",
     "output_type": "stream",
     "text": [
      "GreenYellow (173, 255, 47)\n"
     ]
    },
    {
     "data": {
      "text/html": [
       "<div style=\"height: 60px; min-width: 200px; background-color: rgb(173, 255, 47)\"></div>"
      ],
      "text/plain": [
       "<IPython.core.display.HTML object>"
      ]
     },
     "metadata": {},
     "output_type": "display_data"
    },
    {
     "name": "stdout",
     "output_type": "stream",
     "text": [
      "PowderBlue (176, 224, 230)\n"
     ]
    },
    {
     "data": {
      "text/html": [
       "<div style=\"height: 60px; min-width: 200px; background-color: rgb(176, 224, 230)\"></div>"
      ],
      "text/plain": [
       "<IPython.core.display.HTML object>"
      ]
     },
     "metadata": {},
     "output_type": "display_data"
    },
    {
     "name": "stdout",
     "output_type": "stream",
     "text": [
      "MistyRose (255, 228, 225)\n"
     ]
    },
    {
     "data": {
      "text/html": [
       "<div style=\"height: 60px; min-width: 200px; background-color: rgb(255, 228, 225)\"></div>"
      ],
      "text/plain": [
       "<IPython.core.display.HTML object>"
      ]
     },
     "metadata": {},
     "output_type": "display_data"
    },
    {
     "name": "stdout",
     "output_type": "stream",
     "text": [
      "DarkGray (169, 169, 169)\n"
     ]
    },
    {
     "data": {
      "text/html": [
       "<div style=\"height: 60px; min-width: 200px; background-color: rgb(169, 169, 169)\"></div>"
      ],
      "text/plain": [
       "<IPython.core.display.HTML object>"
      ]
     },
     "metadata": {},
     "output_type": "display_data"
    },
    {
     "name": "stdout",
     "output_type": "stream",
     "text": [
      "DarkCyan (0, 139, 139)\n"
     ]
    },
    {
     "data": {
      "text/html": [
       "<div style=\"height: 60px; min-width: 200px; background-color: rgb(0, 139, 139)\"></div>"
      ],
      "text/plain": [
       "<IPython.core.display.HTML object>"
      ]
     },
     "metadata": {},
     "output_type": "display_data"
    },
    {
     "name": "stdout",
     "output_type": "stream",
     "text": [
      "PaleTurquoise (175, 238, 238)\n"
     ]
    },
    {
     "data": {
      "text/html": [
       "<div style=\"height: 60px; min-width: 200px; background-color: rgb(175, 238, 238)\"></div>"
      ],
      "text/plain": [
       "<IPython.core.display.HTML object>"
      ]
     },
     "metadata": {},
     "output_type": "display_data"
    },
    {
     "name": "stdout",
     "output_type": "stream",
     "text": [
      "SeaGreen (46, 139, 87)\n"
     ]
    },
    {
     "data": {
      "text/html": [
       "<div style=\"height: 60px; min-width: 200px; background-color: rgb(46, 139, 87)\"></div>"
      ],
      "text/plain": [
       "<IPython.core.display.HTML object>"
      ]
     },
     "metadata": {},
     "output_type": "display_data"
    },
    {
     "name": "stdout",
     "output_type": "stream",
     "text": [
      "DarkSeaGreen (143, 188, 143)\n"
     ]
    },
    {
     "data": {
      "text/html": [
       "<div style=\"height: 60px; min-width: 200px; background-color: rgb(143, 188, 143)\"></div>"
      ],
      "text/plain": [
       "<IPython.core.display.HTML object>"
      ]
     },
     "metadata": {},
     "output_type": "display_data"
    },
    {
     "name": "stdout",
     "output_type": "stream",
     "text": [
      "AntiqueWhite (250, 235, 215)\n"
     ]
    },
    {
     "data": {
      "text/html": [
       "<div style=\"height: 60px; min-width: 200px; background-color: rgb(250, 235, 215)\"></div>"
      ],
      "text/plain": [
       "<IPython.core.display.HTML object>"
      ]
     },
     "metadata": {},
     "output_type": "display_data"
    },
    {
     "name": "stdout",
     "output_type": "stream",
     "text": [
      "GhostWhite (248, 248, 255)\n"
     ]
    },
    {
     "data": {
      "text/html": [
       "<div style=\"height: 60px; min-width: 200px; background-color: rgb(248, 248, 255)\"></div>"
      ],
      "text/plain": [
       "<IPython.core.display.HTML object>"
      ]
     },
     "metadata": {},
     "output_type": "display_data"
    },
    {
     "name": "stdout",
     "output_type": "stream",
     "text": [
      "DarkBlue (0, 0, 139)\n"
     ]
    },
    {
     "data": {
      "text/html": [
       "<div style=\"height: 60px; min-width: 200px; background-color: rgb(0, 0, 139)\"></div>"
      ],
      "text/plain": [
       "<IPython.core.display.HTML object>"
      ]
     },
     "metadata": {},
     "output_type": "display_data"
    },
    {
     "name": "stdout",
     "output_type": "stream",
     "text": [
      "Orchid (218, 112, 214)\n"
     ]
    },
    {
     "data": {
      "text/html": [
       "<div style=\"height: 60px; min-width: 200px; background-color: rgb(218, 112, 214)\"></div>"
      ],
      "text/plain": [
       "<IPython.core.display.HTML object>"
      ]
     },
     "metadata": {},
     "output_type": "display_data"
    },
    {
     "name": "stdout",
     "output_type": "stream",
     "text": [
      "RosyBrown (188, 143, 143)\n"
     ]
    },
    {
     "data": {
      "text/html": [
       "<div style=\"height: 60px; min-width: 200px; background-color: rgb(188, 143, 143)\"></div>"
      ],
      "text/plain": [
       "<IPython.core.display.HTML object>"
      ]
     },
     "metadata": {},
     "output_type": "display_data"
    },
    {
     "name": "stdout",
     "output_type": "stream",
     "text": [
      "IndianRed (205, 92, 92)\n"
     ]
    },
    {
     "data": {
      "text/html": [
       "<div style=\"height: 60px; min-width: 200px; background-color: rgb(205, 92, 92)\"></div>"
      ],
      "text/plain": [
       "<IPython.core.display.HTML object>"
      ]
     },
     "metadata": {},
     "output_type": "display_data"
    },
    {
     "name": "stdout",
     "output_type": "stream",
     "text": [
      "SaddleBrown (139, 69, 19)\n"
     ]
    },
    {
     "data": {
      "text/html": [
       "<div style=\"height: 60px; min-width: 200px; background-color: rgb(139, 69, 19)\"></div>"
      ],
      "text/plain": [
       "<IPython.core.display.HTML object>"
      ]
     },
     "metadata": {},
     "output_type": "display_data"
    },
    {
     "name": "stdout",
     "output_type": "stream",
     "text": [
      "Orange (255, 165, 0)\n"
     ]
    },
    {
     "data": {
      "text/html": [
       "<div style=\"height: 60px; min-width: 200px; background-color: rgb(255, 165, 0)\"></div>"
      ],
      "text/plain": [
       "<IPython.core.display.HTML object>"
      ]
     },
     "metadata": {},
     "output_type": "display_data"
    },
    {
     "name": "stdout",
     "output_type": "stream",
     "text": [
      "MediumTurquoise (72, 209, 204)\n"
     ]
    },
    {
     "data": {
      "text/html": [
       "<div style=\"height: 60px; min-width: 200px; background-color: rgb(72, 209, 204)\"></div>"
      ],
      "text/plain": [
       "<IPython.core.display.HTML object>"
      ]
     },
     "metadata": {},
     "output_type": "display_data"
    },
    {
     "name": "stdout",
     "output_type": "stream",
     "text": [
      "LightGoldenrodYellow (250, 250, 210)\n"
     ]
    },
    {
     "data": {
      "text/html": [
       "<div style=\"height: 60px; min-width: 200px; background-color: rgb(250, 250, 210)\"></div>"
      ],
      "text/plain": [
       "<IPython.core.display.HTML object>"
      ]
     },
     "metadata": {},
     "output_type": "display_data"
    },
    {
     "name": "stdout",
     "output_type": "stream",
     "text": [
      "MediumOrchid (186, 85, 211)\n"
     ]
    },
    {
     "data": {
      "text/html": [
       "<div style=\"height: 60px; min-width: 200px; background-color: rgb(186, 85, 211)\"></div>"
      ],
      "text/plain": [
       "<IPython.core.display.HTML object>"
      ]
     },
     "metadata": {},
     "output_type": "display_data"
    },
    {
     "name": "stdout",
     "output_type": "stream",
     "text": [
      "Snow (255, 250, 250)\n"
     ]
    },
    {
     "data": {
      "text/html": [
       "<div style=\"height: 60px; min-width: 200px; background-color: rgb(255, 250, 250)\"></div>"
      ],
      "text/plain": [
       "<IPython.core.display.HTML object>"
      ]
     },
     "metadata": {},
     "output_type": "display_data"
    },
    {
     "name": "stdout",
     "output_type": "stream",
     "text": [
      "MediumVioletRed (199, 21, 133)\n"
     ]
    },
    {
     "data": {
      "text/html": [
       "<div style=\"height: 60px; min-width: 200px; background-color: rgb(199, 21, 133)\"></div>"
      ],
      "text/plain": [
       "<IPython.core.display.HTML object>"
      ]
     },
     "metadata": {},
     "output_type": "display_data"
    },
    {
     "name": "stdout",
     "output_type": "stream",
     "text": [
      "DarkOrchid (153, 50, 204)\n"
     ]
    },
    {
     "data": {
      "text/html": [
       "<div style=\"height: 60px; min-width: 200px; background-color: rgb(153, 50, 204)\"></div>"
      ],
      "text/plain": [
       "<IPython.core.display.HTML object>"
      ]
     },
     "metadata": {},
     "output_type": "display_data"
    },
    {
     "name": "stdout",
     "output_type": "stream",
     "text": [
      "LemonChiffon (255, 250, 205)\n"
     ]
    },
    {
     "data": {
      "text/html": [
       "<div style=\"height: 60px; min-width: 200px; background-color: rgb(255, 250, 205)\"></div>"
      ],
      "text/plain": [
       "<IPython.core.display.HTML object>"
      ]
     },
     "metadata": {},
     "output_type": "display_data"
    },
    {
     "name": "stdout",
     "output_type": "stream",
     "text": [
      "PaleVioletRed (219, 112, 147)\n"
     ]
    },
    {
     "data": {
      "text/html": [
       "<div style=\"height: 60px; min-width: 200px; background-color: rgb(219, 112, 147)\"></div>"
      ],
      "text/plain": [
       "<IPython.core.display.HTML object>"
      ]
     },
     "metadata": {},
     "output_type": "display_data"
    },
    {
     "name": "stdout",
     "output_type": "stream",
     "text": [
      "Peru (205, 133, 63)\n"
     ]
    },
    {
     "data": {
      "text/html": [
       "<div style=\"height: 60px; min-width: 200px; background-color: rgb(205, 133, 63)\"></div>"
      ],
      "text/plain": [
       "<IPython.core.display.HTML object>"
      ]
     },
     "metadata": {},
     "output_type": "display_data"
    },
    {
     "name": "stdout",
     "output_type": "stream",
     "text": [
      "SkyBlue (135, 206, 235)\n"
     ]
    },
    {
     "data": {
      "text/html": [
       "<div style=\"height: 60px; min-width: 200px; background-color: rgb(135, 206, 235)\"></div>"
      ],
      "text/plain": [
       "<IPython.core.display.HTML object>"
      ]
     },
     "metadata": {},
     "output_type": "display_data"
    },
    {
     "name": "stdout",
     "output_type": "stream",
     "text": [
      "Bisque (255, 228, 196)\n"
     ]
    },
    {
     "data": {
      "text/html": [
       "<div style=\"height: 60px; min-width: 200px; background-color: rgb(255, 228, 196)\"></div>"
      ],
      "text/plain": [
       "<IPython.core.display.HTML object>"
      ]
     },
     "metadata": {},
     "output_type": "display_data"
    },
    {
     "name": "stdout",
     "output_type": "stream",
     "text": [
      "Lavender (230, 230, 250)\n"
     ]
    },
    {
     "data": {
      "text/html": [
       "<div style=\"height: 60px; min-width: 200px; background-color: rgb(230, 230, 250)\"></div>"
      ],
      "text/plain": [
       "<IPython.core.display.HTML object>"
      ]
     },
     "metadata": {},
     "output_type": "display_data"
    },
    {
     "name": "stdout",
     "output_type": "stream",
     "text": [
      "SpringGreen (0, 255, 127)\n"
     ]
    },
    {
     "data": {
      "text/html": [
       "<div style=\"height: 60px; min-width: 200px; background-color: rgb(0, 255, 127)\"></div>"
      ],
      "text/plain": [
       "<IPython.core.display.HTML object>"
      ]
     },
     "metadata": {},
     "output_type": "display_data"
    },
    {
     "name": "stdout",
     "output_type": "stream",
     "text": [
      "MediumAquamarine (102, 205, 170)\n"
     ]
    },
    {
     "data": {
      "text/html": [
       "<div style=\"height: 60px; min-width: 200px; background-color: rgb(102, 205, 170)\"></div>"
      ],
      "text/plain": [
       "<IPython.core.display.HTML object>"
      ]
     },
     "metadata": {},
     "output_type": "display_data"
    },
    {
     "name": "stdout",
     "output_type": "stream",
     "text": [
      "AliceBlue (240, 248, 255)\n"
     ]
    },
    {
     "data": {
      "text/html": [
       "<div style=\"height: 60px; min-width: 200px; background-color: rgb(240, 248, 255)\"></div>"
      ],
      "text/plain": [
       "<IPython.core.display.HTML object>"
      ]
     },
     "metadata": {},
     "output_type": "display_data"
    },
    {
     "name": "stdout",
     "output_type": "stream",
     "text": [
      "DeepPink (255, 20, 147)\n"
     ]
    },
    {
     "data": {
      "text/html": [
       "<div style=\"height: 60px; min-width: 200px; background-color: rgb(255, 20, 147)\"></div>"
      ],
      "text/plain": [
       "<IPython.core.display.HTML object>"
      ]
     },
     "metadata": {},
     "output_type": "display_data"
    },
    {
     "name": "stdout",
     "output_type": "stream",
     "text": [
      "Navy (0, 0, 128)\n"
     ]
    },
    {
     "data": {
      "text/html": [
       "<div style=\"height: 60px; min-width: 200px; background-color: rgb(0, 0, 128)\"></div>"
      ],
      "text/plain": [
       "<IPython.core.display.HTML object>"
      ]
     },
     "metadata": {},
     "output_type": "display_data"
    },
    {
     "name": "stdout",
     "output_type": "stream",
     "text": [
      "DarkSlateBlue (72, 61, 139)\n"
     ]
    },
    {
     "data": {
      "text/html": [
       "<div style=\"height: 60px; min-width: 200px; background-color: rgb(72, 61, 139)\"></div>"
      ],
      "text/plain": [
       "<IPython.core.display.HTML object>"
      ]
     },
     "metadata": {},
     "output_type": "display_data"
    },
    {
     "name": "stdout",
     "output_type": "stream",
     "text": [
      "OliveDrab (107, 142, 35)\n"
     ]
    },
    {
     "data": {
      "text/html": [
       "<div style=\"height: 60px; min-width: 200px; background-color: rgb(107, 142, 35)\"></div>"
      ],
      "text/plain": [
       "<IPython.core.display.HTML object>"
      ]
     },
     "metadata": {},
     "output_type": "display_data"
    },
    {
     "name": "stdout",
     "output_type": "stream",
     "text": [
      "OrangeRed (255, 69, 0)\n"
     ]
    },
    {
     "data": {
      "text/html": [
       "<div style=\"height: 60px; min-width: 200px; background-color: rgb(255, 69, 0)\"></div>"
      ],
      "text/plain": [
       "<IPython.core.display.HTML object>"
      ]
     },
     "metadata": {},
     "output_type": "display_data"
    },
    {
     "name": "stdout",
     "output_type": "stream",
     "text": [
      "DarkRed (139, 0, 0)\n"
     ]
    },
    {
     "data": {
      "text/html": [
       "<div style=\"height: 60px; min-width: 200px; background-color: rgb(139, 0, 0)\"></div>"
      ],
      "text/plain": [
       "<IPython.core.display.HTML object>"
      ]
     },
     "metadata": {},
     "output_type": "display_data"
    },
    {
     "name": "stdout",
     "output_type": "stream",
     "text": [
      "DarkMagenta (139, 0, 139)\n"
     ]
    },
    {
     "data": {
      "text/html": [
       "<div style=\"height: 60px; min-width: 200px; background-color: rgb(139, 0, 139)\"></div>"
      ],
      "text/plain": [
       "<IPython.core.display.HTML object>"
      ]
     },
     "metadata": {},
     "output_type": "display_data"
    },
    {
     "name": "stdout",
     "output_type": "stream",
     "text": [
      "ForestGreen (34, 139, 34)\n"
     ]
    },
    {
     "data": {
      "text/html": [
       "<div style=\"height: 60px; min-width: 200px; background-color: rgb(34, 139, 34)\"></div>"
      ],
      "text/plain": [
       "<IPython.core.display.HTML object>"
      ]
     },
     "metadata": {},
     "output_type": "display_data"
    },
    {
     "name": "stdout",
     "output_type": "stream",
     "text": [
      "SlateBlue (106, 90, 205)\n"
     ]
    },
    {
     "data": {
      "text/html": [
       "<div style=\"height: 60px; min-width: 200px; background-color: rgb(106, 90, 205)\"></div>"
      ],
      "text/plain": [
       "<IPython.core.display.HTML object>"
      ]
     },
     "metadata": {},
     "output_type": "display_data"
    },
    {
     "name": "stdout",
     "output_type": "stream",
     "text": [
      "LavenderBlush (255, 240, 245)\n"
     ]
    },
    {
     "data": {
      "text/html": [
       "<div style=\"height: 60px; min-width: 200px; background-color: rgb(255, 240, 245)\"></div>"
      ],
      "text/plain": [
       "<IPython.core.display.HTML object>"
      ]
     },
     "metadata": {},
     "output_type": "display_data"
    },
    {
     "name": "stdout",
     "output_type": "stream",
     "text": [
      "Beige (245, 245, 220)\n"
     ]
    },
    {
     "data": {
      "text/html": [
       "<div style=\"height: 60px; min-width: 200px; background-color: rgb(245, 245, 220)\"></div>"
      ],
      "text/plain": [
       "<IPython.core.display.HTML object>"
      ]
     },
     "metadata": {},
     "output_type": "display_data"
    },
    {
     "name": "stdout",
     "output_type": "stream",
     "text": [
      "LimeGreen (50, 205, 50)\n"
     ]
    },
    {
     "data": {
      "text/html": [
       "<div style=\"height: 60px; min-width: 200px; background-color: rgb(50, 205, 50)\"></div>"
      ],
      "text/plain": [
       "<IPython.core.display.HTML object>"
      ]
     },
     "metadata": {},
     "output_type": "display_data"
    },
    {
     "name": "stdout",
     "output_type": "stream",
     "text": [
      "RoyalBlue (65, 105, 225)\n"
     ]
    },
    {
     "data": {
      "text/html": [
       "<div style=\"height: 60px; min-width: 200px; background-color: rgb(65, 105, 225)\"></div>"
      ],
      "text/plain": [
       "<IPython.core.display.HTML object>"
      ]
     },
     "metadata": {},
     "output_type": "display_data"
    },
    {
     "name": "stdout",
     "output_type": "stream",
     "text": [
      "Pink (255, 192, 203)\n"
     ]
    },
    {
     "data": {
      "text/html": [
       "<div style=\"height: 60px; min-width: 200px; background-color: rgb(255, 192, 203)\"></div>"
      ],
      "text/plain": [
       "<IPython.core.display.HTML object>"
      ]
     },
     "metadata": {},
     "output_type": "display_data"
    },
    {
     "name": "stdout",
     "output_type": "stream",
     "text": [
      "Ivory (255, 255, 240)\n"
     ]
    },
    {
     "data": {
      "text/html": [
       "<div style=\"height: 60px; min-width: 200px; background-color: rgb(255, 255, 240)\"></div>"
      ],
      "text/plain": [
       "<IPython.core.display.HTML object>"
      ]
     },
     "metadata": {},
     "output_type": "display_data"
    },
    {
     "name": "stdout",
     "output_type": "stream",
     "text": [
      "DarkViolet (148, 0, 211)\n"
     ]
    },
    {
     "data": {
      "text/html": [
       "<div style=\"height: 60px; min-width: 200px; background-color: rgb(148, 0, 211)\"></div>"
      ],
      "text/plain": [
       "<IPython.core.display.HTML object>"
      ]
     },
     "metadata": {},
     "output_type": "display_data"
    },
    {
     "name": "stdout",
     "output_type": "stream",
     "text": [
      "HotPink (255, 105, 180)\n"
     ]
    },
    {
     "data": {
      "text/html": [
       "<div style=\"height: 60px; min-width: 200px; background-color: rgb(255, 105, 180)\"></div>"
      ],
      "text/plain": [
       "<IPython.core.display.HTML object>"
      ]
     },
     "metadata": {},
     "output_type": "display_data"
    },
    {
     "name": "stdout",
     "output_type": "stream",
     "text": [
      "LightSeaGreen (32, 178, 170)\n"
     ]
    },
    {
     "data": {
      "text/html": [
       "<div style=\"height: 60px; min-width: 200px; background-color: rgb(32, 178, 170)\"></div>"
      ],
      "text/plain": [
       "<IPython.core.display.HTML object>"
      ]
     },
     "metadata": {},
     "output_type": "display_data"
    },
    {
     "name": "stdout",
     "output_type": "stream",
     "text": [
      "White (255, 255, 255)\n"
     ]
    },
    {
     "data": {
      "text/html": [
       "<div style=\"height: 60px; min-width: 200px; background-color: rgb(255, 255, 255)\"></div>"
      ],
      "text/plain": [
       "<IPython.core.display.HTML object>"
      ]
     },
     "metadata": {},
     "output_type": "display_data"
    },
    {
     "name": "stdout",
     "output_type": "stream",
     "text": [
      "LightSkyBlue (135, 206, 250)\n"
     ]
    },
    {
     "data": {
      "text/html": [
       "<div style=\"height: 60px; min-width: 200px; background-color: rgb(135, 206, 250)\"></div>"
      ],
      "text/plain": [
       "<IPython.core.display.HTML object>"
      ]
     },
     "metadata": {},
     "output_type": "display_data"
    },
    {
     "name": "stdout",
     "output_type": "stream",
     "text": [
      "NavajoWhite (255, 222, 173)\n"
     ]
    },
    {
     "data": {
      "text/html": [
       "<div style=\"height: 60px; min-width: 200px; background-color: rgb(255, 222, 173)\"></div>"
      ],
      "text/plain": [
       "<IPython.core.display.HTML object>"
      ]
     },
     "metadata": {},
     "output_type": "display_data"
    },
    {
     "name": "stdout",
     "output_type": "stream",
     "text": [
      "BlueViolet (138, 43, 226)\n"
     ]
    },
    {
     "data": {
      "text/html": [
       "<div style=\"height: 60px; min-width: 200px; background-color: rgb(138, 43, 226)\"></div>"
      ],
      "text/plain": [
       "<IPython.core.display.HTML object>"
      ]
     },
     "metadata": {},
     "output_type": "display_data"
    },
    {
     "name": "stdout",
     "output_type": "stream",
     "text": [
      "Black (0, 0, 0)\n"
     ]
    },
    {
     "data": {
      "text/html": [
       "<div style=\"height: 60px; min-width: 200px; background-color: rgb(0, 0, 0)\"></div>"
      ],
      "text/plain": [
       "<IPython.core.display.HTML object>"
      ]
     },
     "metadata": {},
     "output_type": "display_data"
    },
    {
     "name": "stdout",
     "output_type": "stream",
     "text": [
      "Gainsboro (220, 220, 220)\n"
     ]
    },
    {
     "data": {
      "text/html": [
       "<div style=\"height: 60px; min-width: 200px; background-color: rgb(220, 220, 220)\"></div>"
      ],
      "text/plain": [
       "<IPython.core.display.HTML object>"
      ]
     },
     "metadata": {},
     "output_type": "display_data"
    },
    {
     "name": "stdout",
     "output_type": "stream",
     "text": [
      "MediumSlateBlue (123, 104, 238)\n"
     ]
    },
    {
     "data": {
      "text/html": [
       "<div style=\"height: 60px; min-width: 200px; background-color: rgb(123, 104, 238)\"></div>"
      ],
      "text/plain": [
       "<IPython.core.display.HTML object>"
      ]
     },
     "metadata": {},
     "output_type": "display_data"
    },
    {
     "name": "stdout",
     "output_type": "stream",
     "text": [
      "DarkOrange (255, 140, 0)\n"
     ]
    },
    {
     "data": {
      "text/html": [
       "<div style=\"height: 60px; min-width: 200px; background-color: rgb(255, 140, 0)\"></div>"
      ],
      "text/plain": [
       "<IPython.core.display.HTML object>"
      ]
     },
     "metadata": {},
     "output_type": "display_data"
    },
    {
     "name": "stdout",
     "output_type": "stream",
     "text": [
      "PaleGreen (152, 251, 152)\n"
     ]
    },
    {
     "data": {
      "text/html": [
       "<div style=\"height: 60px; min-width: 200px; background-color: rgb(152, 251, 152)\"></div>"
      ],
      "text/plain": [
       "<IPython.core.display.HTML object>"
      ]
     },
     "metadata": {},
     "output_type": "display_data"
    },
    {
     "name": "stdout",
     "output_type": "stream",
     "text": [
      "Gray (128, 128, 128)\n"
     ]
    },
    {
     "data": {
      "text/html": [
       "<div style=\"height: 60px; min-width: 200px; background-color: rgb(128, 128, 128)\"></div>"
      ],
      "text/plain": [
       "<IPython.core.display.HTML object>"
      ]
     },
     "metadata": {},
     "output_type": "display_data"
    },
    {
     "name": "stdout",
     "output_type": "stream",
     "text": [
      "Brown (165, 42, 42)\n"
     ]
    },
    {
     "data": {
      "text/html": [
       "<div style=\"height: 60px; min-width: 200px; background-color: rgb(165, 42, 42)\"></div>"
      ],
      "text/plain": [
       "<IPython.core.display.HTML object>"
      ]
     },
     "metadata": {},
     "output_type": "display_data"
    },
    {
     "name": "stdout",
     "output_type": "stream",
     "text": [
      "Teal (0, 128, 128)\n"
     ]
    },
    {
     "data": {
      "text/html": [
       "<div style=\"height: 60px; min-width: 200px; background-color: rgb(0, 128, 128)\"></div>"
      ],
      "text/plain": [
       "<IPython.core.display.HTML object>"
      ]
     },
     "metadata": {},
     "output_type": "display_data"
    },
    {
     "name": "stdout",
     "output_type": "stream",
     "text": [
      "Wheat (245, 222, 179)\n"
     ]
    },
    {
     "data": {
      "text/html": [
       "<div style=\"height: 60px; min-width: 200px; background-color: rgb(245, 222, 179)\"></div>"
      ],
      "text/plain": [
       "<IPython.core.display.HTML object>"
      ]
     },
     "metadata": {},
     "output_type": "display_data"
    },
    {
     "name": "stdout",
     "output_type": "stream",
     "text": [
      "SandyBrown (244, 164, 96)\n"
     ]
    },
    {
     "data": {
      "text/html": [
       "<div style=\"height: 60px; min-width: 200px; background-color: rgb(244, 164, 96)\"></div>"
      ],
      "text/plain": [
       "<IPython.core.display.HTML object>"
      ]
     },
     "metadata": {},
     "output_type": "display_data"
    },
    {
     "name": "stdout",
     "output_type": "stream",
     "text": [
      "PapayaWhip (255, 239, 213)\n"
     ]
    },
    {
     "data": {
      "text/html": [
       "<div style=\"height: 60px; min-width: 200px; background-color: rgb(255, 239, 213)\"></div>"
      ],
      "text/plain": [
       "<IPython.core.display.HTML object>"
      ]
     },
     "metadata": {},
     "output_type": "display_data"
    },
    {
     "name": "stdout",
     "output_type": "stream",
     "text": [
      "Yellow (255, 255, 0)\n"
     ]
    },
    {
     "data": {
      "text/html": [
       "<div style=\"height: 60px; min-width: 200px; background-color: rgb(255, 255, 0)\"></div>"
      ],
      "text/plain": [
       "<IPython.core.display.HTML object>"
      ]
     },
     "metadata": {},
     "output_type": "display_data"
    },
    {
     "name": "stdout",
     "output_type": "stream",
     "text": [
      "MediumSpringGreen (0, 250, 154)\n"
     ]
    },
    {
     "data": {
      "text/html": [
       "<div style=\"height: 60px; min-width: 200px; background-color: rgb(0, 250, 154)\"></div>"
      ],
      "text/plain": [
       "<IPython.core.display.HTML object>"
      ]
     },
     "metadata": {},
     "output_type": "display_data"
    },
    {
     "name": "stdout",
     "output_type": "stream",
     "text": [
      "Cornsilk (255, 248, 220)\n"
     ]
    },
    {
     "data": {
      "text/html": [
       "<div style=\"height: 60px; min-width: 200px; background-color: rgb(255, 248, 220)\"></div>"
      ],
      "text/plain": [
       "<IPython.core.display.HTML object>"
      ]
     },
     "metadata": {},
     "output_type": "display_data"
    },
    {
     "name": "stdout",
     "output_type": "stream",
     "text": [
      "Maroon (128, 0, 0)\n"
     ]
    },
    {
     "data": {
      "text/html": [
       "<div style=\"height: 60px; min-width: 200px; background-color: rgb(128, 0, 0)\"></div>"
      ],
      "text/plain": [
       "<IPython.core.display.HTML object>"
      ]
     },
     "metadata": {},
     "output_type": "display_data"
    },
    {
     "name": "stdout",
     "output_type": "stream",
     "text": [
      "Gold (255, 215, 0)\n"
     ]
    },
    {
     "data": {
      "text/html": [
       "<div style=\"height: 60px; min-width: 200px; background-color: rgb(255, 215, 0)\"></div>"
      ],
      "text/plain": [
       "<IPython.core.display.HTML object>"
      ]
     },
     "metadata": {},
     "output_type": "display_data"
    },
    {
     "name": "stdout",
     "output_type": "stream",
     "text": [
      "Thistle (216, 191, 216)\n"
     ]
    },
    {
     "data": {
      "text/html": [
       "<div style=\"height: 60px; min-width: 200px; background-color: rgb(216, 191, 216)\"></div>"
      ],
      "text/plain": [
       "<IPython.core.display.HTML object>"
      ]
     },
     "metadata": {},
     "output_type": "display_data"
    },
    {
     "name": "stdout",
     "output_type": "stream",
     "text": [
      "WhiteSmoke (245, 245, 245)\n"
     ]
    },
    {
     "data": {
      "text/html": [
       "<div style=\"height: 60px; min-width: 200px; background-color: rgb(245, 245, 245)\"></div>"
      ],
      "text/plain": [
       "<IPython.core.display.HTML object>"
      ]
     },
     "metadata": {},
     "output_type": "display_data"
    },
    {
     "name": "stdout",
     "output_type": "stream",
     "text": [
      "Seashell (255, 245, 238)\n"
     ]
    },
    {
     "data": {
      "text/html": [
       "<div style=\"height: 60px; min-width: 200px; background-color: rgb(255, 245, 238)\"></div>"
      ],
      "text/plain": [
       "<IPython.core.display.HTML object>"
      ]
     },
     "metadata": {},
     "output_type": "display_data"
    },
    {
     "name": "stdout",
     "output_type": "stream",
     "text": [
      "BlanchedAlmond (255, 235, 205)\n"
     ]
    },
    {
     "data": {
      "text/html": [
       "<div style=\"height: 60px; min-width: 200px; background-color: rgb(255, 235, 205)\"></div>"
      ],
      "text/plain": [
       "<IPython.core.display.HTML object>"
      ]
     },
     "metadata": {},
     "output_type": "display_data"
    },
    {
     "name": "stdout",
     "output_type": "stream",
     "text": [
      "Tan (210, 180, 140)\n"
     ]
    },
    {
     "data": {
      "text/html": [
       "<div style=\"height: 60px; min-width: 200px; background-color: rgb(210, 180, 140)\"></div>"
      ],
      "text/plain": [
       "<IPython.core.display.HTML object>"
      ]
     },
     "metadata": {},
     "output_type": "display_data"
    },
    {
     "name": "stdout",
     "output_type": "stream",
     "text": [
      "Indigo (75, 0, 130)\n"
     ]
    },
    {
     "data": {
      "text/html": [
       "<div style=\"height: 60px; min-width: 200px; background-color: rgb(75, 0, 130)\"></div>"
      ],
      "text/plain": [
       "<IPython.core.display.HTML object>"
      ]
     },
     "metadata": {},
     "output_type": "display_data"
    },
    {
     "name": "stdout",
     "output_type": "stream",
     "text": [
      "Green (0, 128, 0)\n"
     ]
    },
    {
     "data": {
      "text/html": [
       "<div style=\"height: 60px; min-width: 200px; background-color: rgb(0, 128, 0)\"></div>"
      ],
      "text/plain": [
       "<IPython.core.display.HTML object>"
      ]
     },
     "metadata": {},
     "output_type": "display_data"
    },
    {
     "name": "stdout",
     "output_type": "stream",
     "text": [
      "Khaki (240, 230, 140)\n"
     ]
    },
    {
     "data": {
      "text/html": [
       "<div style=\"height: 60px; min-width: 200px; background-color: rgb(240, 230, 140)\"></div>"
      ],
      "text/plain": [
       "<IPython.core.display.HTML object>"
      ]
     },
     "metadata": {},
     "output_type": "display_data"
    },
    {
     "name": "stdout",
     "output_type": "stream",
     "text": [
      "Aqua (0, 255, 255)\n"
     ]
    },
    {
     "data": {
      "text/html": [
       "<div style=\"height: 60px; min-width: 200px; background-color: rgb(0, 255, 255)\"></div>"
      ],
      "text/plain": [
       "<IPython.core.display.HTML object>"
      ]
     },
     "metadata": {},
     "output_type": "display_data"
    },
    {
     "name": "stdout",
     "output_type": "stream",
     "text": [
      "LightGray (211, 211, 211)\n"
     ]
    },
    {
     "data": {
      "text/html": [
       "<div style=\"height: 60px; min-width: 200px; background-color: rgb(211, 211, 211)\"></div>"
      ],
      "text/plain": [
       "<IPython.core.display.HTML object>"
      ]
     },
     "metadata": {},
     "output_type": "display_data"
    },
    {
     "name": "stdout",
     "output_type": "stream",
     "text": [
      "CornflowerBlue (100, 149, 237)\n"
     ]
    },
    {
     "data": {
      "text/html": [
       "<div style=\"height: 60px; min-width: 200px; background-color: rgb(100, 149, 237)\"></div>"
      ],
      "text/plain": [
       "<IPython.core.display.HTML object>"
      ]
     },
     "metadata": {},
     "output_type": "display_data"
    },
    {
     "name": "stdout",
     "output_type": "stream",
     "text": [
      "DarkGreen (0, 100, 0)\n"
     ]
    },
    {
     "data": {
      "text/html": [
       "<div style=\"height: 60px; min-width: 200px; background-color: rgb(0, 100, 0)\"></div>"
      ],
      "text/plain": [
       "<IPython.core.display.HTML object>"
      ]
     },
     "metadata": {},
     "output_type": "display_data"
    },
    {
     "name": "stdout",
     "output_type": "stream",
     "text": [
      "Azure (240, 255, 255)\n"
     ]
    },
    {
     "data": {
      "text/html": [
       "<div style=\"height: 60px; min-width: 200px; background-color: rgb(240, 255, 255)\"></div>"
      ],
      "text/plain": [
       "<IPython.core.display.HTML object>"
      ]
     },
     "metadata": {},
     "output_type": "display_data"
    },
    {
     "name": "stdout",
     "output_type": "stream",
     "text": [
      "MidnightBlue (25, 25, 112)\n"
     ]
    },
    {
     "data": {
      "text/html": [
       "<div style=\"height: 60px; min-width: 200px; background-color: rgb(25, 25, 112)\"></div>"
      ],
      "text/plain": [
       "<IPython.core.display.HTML object>"
      ]
     },
     "metadata": {},
     "output_type": "display_data"
    },
    {
     "name": "stdout",
     "output_type": "stream",
     "text": [
      "FloralWhite (255, 250, 240)\n"
     ]
    },
    {
     "data": {
      "text/html": [
       "<div style=\"height: 60px; min-width: 200px; background-color: rgb(255, 250, 240)\"></div>"
      ],
      "text/plain": [
       "<IPython.core.display.HTML object>"
      ]
     },
     "metadata": {},
     "output_type": "display_data"
    },
    {
     "name": "stdout",
     "output_type": "stream",
     "text": [
      "DarkGoldenrod (184, 134, 11)\n"
     ]
    },
    {
     "data": {
      "text/html": [
       "<div style=\"height: 60px; min-width: 200px; background-color: rgb(184, 134, 11)\"></div>"
      ],
      "text/plain": [
       "<IPython.core.display.HTML object>"
      ]
     },
     "metadata": {},
     "output_type": "display_data"
    },
    {
     "name": "stdout",
     "output_type": "stream",
     "text": [
      "SlateGray (112, 128, 144)\n"
     ]
    },
    {
     "data": {
      "text/html": [
       "<div style=\"height: 60px; min-width: 200px; background-color: rgb(112, 128, 144)\"></div>"
      ],
      "text/plain": [
       "<IPython.core.display.HTML object>"
      ]
     },
     "metadata": {},
     "output_type": "display_data"
    },
    {
     "name": "stdout",
     "output_type": "stream",
     "text": [
      "DeepSkyBlue (0, 191, 255)\n"
     ]
    },
    {
     "data": {
      "text/html": [
       "<div style=\"height: 60px; min-width: 200px; background-color: rgb(0, 191, 255)\"></div>"
      ],
      "text/plain": [
       "<IPython.core.display.HTML object>"
      ]
     },
     "metadata": {},
     "output_type": "display_data"
    },
    {
     "name": "stdout",
     "output_type": "stream",
     "text": [
      "Plum (221, 160, 221)\n"
     ]
    },
    {
     "data": {
      "text/html": [
       "<div style=\"height: 60px; min-width: 200px; background-color: rgb(221, 160, 221)\"></div>"
      ],
      "text/plain": [
       "<IPython.core.display.HTML object>"
      ]
     },
     "metadata": {},
     "output_type": "display_data"
    },
    {
     "name": "stdout",
     "output_type": "stream",
     "text": [
      "CadetBlue (95, 158, 160)\n"
     ]
    },
    {
     "data": {
      "text/html": [
       "<div style=\"height: 60px; min-width: 200px; background-color: rgb(95, 158, 160)\"></div>"
      ],
      "text/plain": [
       "<IPython.core.display.HTML object>"
      ]
     },
     "metadata": {},
     "output_type": "display_data"
    },
    {
     "name": "stdout",
     "output_type": "stream",
     "text": [
      "Cyan (0, 255, 255)\n"
     ]
    },
    {
     "data": {
      "text/html": [
       "<div style=\"height: 60px; min-width: 200px; background-color: rgb(0, 255, 255)\"></div>"
      ],
      "text/plain": [
       "<IPython.core.display.HTML object>"
      ]
     },
     "metadata": {},
     "output_type": "display_data"
    },
    {
     "name": "stdout",
     "output_type": "stream",
     "text": [
      "PeachPuff (255, 218, 185)\n"
     ]
    },
    {
     "data": {
      "text/html": [
       "<div style=\"height: 60px; min-width: 200px; background-color: rgb(255, 218, 185)\"></div>"
      ],
      "text/plain": [
       "<IPython.core.display.HTML object>"
      ]
     },
     "metadata": {},
     "output_type": "display_data"
    },
    {
     "name": "stdout",
     "output_type": "stream",
     "text": [
      "Salmon (250, 128, 114)\n"
     ]
    },
    {
     "data": {
      "text/html": [
       "<div style=\"height: 60px; min-width: 200px; background-color: rgb(250, 128, 114)\"></div>"
      ],
      "text/plain": [
       "<IPython.core.display.HTML object>"
      ]
     },
     "metadata": {},
     "output_type": "display_data"
    },
    {
     "name": "stdout",
     "output_type": "stream",
     "text": [
      "Goldenrod (218, 165, 32)\n"
     ]
    },
    {
     "data": {
      "text/html": [
       "<div style=\"height: 60px; min-width: 200px; background-color: rgb(218, 165, 32)\"></div>"
      ],
      "text/plain": [
       "<IPython.core.display.HTML object>"
      ]
     },
     "metadata": {},
     "output_type": "display_data"
    },
    {
     "name": "stdout",
     "output_type": "stream",
     "text": [
      "Chocolate (210, 105, 30)\n"
     ]
    },
    {
     "data": {
      "text/html": [
       "<div style=\"height: 60px; min-width: 200px; background-color: rgb(210, 105, 30)\"></div>"
      ],
      "text/plain": [
       "<IPython.core.display.HTML object>"
      ]
     },
     "metadata": {},
     "output_type": "display_data"
    },
    {
     "name": "stdout",
     "output_type": "stream",
     "text": [
      "LightBlue (173, 216, 230)\n"
     ]
    },
    {
     "data": {
      "text/html": [
       "<div style=\"height: 60px; min-width: 200px; background-color: rgb(173, 216, 230)\"></div>"
      ],
      "text/plain": [
       "<IPython.core.display.HTML object>"
      ]
     },
     "metadata": {},
     "output_type": "display_data"
    },
    {
     "name": "stdout",
     "output_type": "stream",
     "text": [
      "DarkSlateGray (47, 79, 79)\n"
     ]
    },
    {
     "data": {
      "text/html": [
       "<div style=\"height: 60px; min-width: 200px; background-color: rgb(47, 79, 79)\"></div>"
      ],
      "text/plain": [
       "<IPython.core.display.HTML object>"
      ]
     },
     "metadata": {},
     "output_type": "display_data"
    },
    {
     "name": "stdout",
     "output_type": "stream",
     "text": [
      "DodgerBlue (30, 144, 255)\n"
     ]
    },
    {
     "data": {
      "text/html": [
       "<div style=\"height: 60px; min-width: 200px; background-color: rgb(30, 144, 255)\"></div>"
      ],
      "text/plain": [
       "<IPython.core.display.HTML object>"
      ]
     },
     "metadata": {},
     "output_type": "display_data"
    },
    {
     "name": "stdout",
     "output_type": "stream",
     "text": [
      "Blue (0, 0, 255)\n"
     ]
    },
    {
     "data": {
      "text/html": [
       "<div style=\"height: 60px; min-width: 200px; background-color: rgb(0, 0, 255)\"></div>"
      ],
      "text/plain": [
       "<IPython.core.display.HTML object>"
      ]
     },
     "metadata": {},
     "output_type": "display_data"
    },
    {
     "name": "stdout",
     "output_type": "stream",
     "text": [
      "Violet (238, 130, 238)\n"
     ]
    },
    {
     "data": {
      "text/html": [
       "<div style=\"height: 60px; min-width: 200px; background-color: rgb(238, 130, 238)\"></div>"
      ],
      "text/plain": [
       "<IPython.core.display.HTML object>"
      ]
     },
     "metadata": {},
     "output_type": "display_data"
    },
    {
     "name": "stdout",
     "output_type": "stream",
     "text": [
      "LightSalmon (255, 160, 122)\n"
     ]
    },
    {
     "data": {
      "text/html": [
       "<div style=\"height: 60px; min-width: 200px; background-color: rgb(255, 160, 122)\"></div>"
      ],
      "text/plain": [
       "<IPython.core.display.HTML object>"
      ]
     },
     "metadata": {},
     "output_type": "display_data"
    },
    {
     "name": "stdout",
     "output_type": "stream",
     "text": [
      "Linen (250, 240, 230)\n"
     ]
    },
    {
     "data": {
      "text/html": [
       "<div style=\"height: 60px; min-width: 200px; background-color: rgb(250, 240, 230)\"></div>"
      ],
      "text/plain": [
       "<IPython.core.display.HTML object>"
      ]
     },
     "metadata": {},
     "output_type": "display_data"
    },
    {
     "name": "stdout",
     "output_type": "stream",
     "text": [
      "LightSlateGray (119, 136, 153)\n"
     ]
    },
    {
     "data": {
      "text/html": [
       "<div style=\"height: 60px; min-width: 200px; background-color: rgb(119, 136, 153)\"></div>"
      ],
      "text/plain": [
       "<IPython.core.display.HTML object>"
      ]
     },
     "metadata": {},
     "output_type": "display_data"
    },
    {
     "name": "stdout",
     "output_type": "stream",
     "text": [
      "FireBrick (178, 34, 34)\n"
     ]
    },
    {
     "data": {
      "text/html": [
       "<div style=\"height: 60px; min-width: 200px; background-color: rgb(178, 34, 34)\"></div>"
      ],
      "text/plain": [
       "<IPython.core.display.HTML object>"
      ]
     },
     "metadata": {},
     "output_type": "display_data"
    },
    {
     "name": "stdout",
     "output_type": "stream",
     "text": [
      "Tomato (255, 99, 71)\n"
     ]
    },
    {
     "data": {
      "text/html": [
       "<div style=\"height: 60px; min-width: 200px; background-color: rgb(255, 99, 71)\"></div>"
      ],
      "text/plain": [
       "<IPython.core.display.HTML object>"
      ]
     },
     "metadata": {},
     "output_type": "display_data"
    },
    {
     "name": "stdout",
     "output_type": "stream",
     "text": [
      "MediumPurple (147, 112, 219)\n"
     ]
    },
    {
     "data": {
      "text/html": [
       "<div style=\"height: 60px; min-width: 200px; background-color: rgb(147, 112, 219)\"></div>"
      ],
      "text/plain": [
       "<IPython.core.display.HTML object>"
      ]
     },
     "metadata": {},
     "output_type": "display_data"
    },
    {
     "name": "stdout",
     "output_type": "stream",
     "text": [
      "Fuchsia (255, 0, 255)\n"
     ]
    },
    {
     "data": {
      "text/html": [
       "<div style=\"height: 60px; min-width: 200px; background-color: rgb(255, 0, 255)\"></div>"
      ],
      "text/plain": [
       "<IPython.core.display.HTML object>"
      ]
     },
     "metadata": {},
     "output_type": "display_data"
    },
    {
     "name": "stdout",
     "output_type": "stream",
     "text": [
      "LightCyan (224, 255, 255)\n"
     ]
    },
    {
     "data": {
      "text/html": [
       "<div style=\"height: 60px; min-width: 200px; background-color: rgb(224, 255, 255)\"></div>"
      ],
      "text/plain": [
       "<IPython.core.display.HTML object>"
      ]
     },
     "metadata": {},
     "output_type": "display_data"
    },
    {
     "name": "stdout",
     "output_type": "stream",
     "text": [
      "DarkKhaki (189, 183, 107)\n"
     ]
    },
    {
     "data": {
      "text/html": [
       "<div style=\"height: 60px; min-width: 200px; background-color: rgb(189, 183, 107)\"></div>"
      ],
      "text/plain": [
       "<IPython.core.display.HTML object>"
      ]
     },
     "metadata": {},
     "output_type": "display_data"
    },
    {
     "name": "stdout",
     "output_type": "stream",
     "text": [
      "Olive (128, 128, 0)\n"
     ]
    },
    {
     "data": {
      "text/html": [
       "<div style=\"height: 60px; min-width: 200px; background-color: rgb(128, 128, 0)\"></div>"
      ],
      "text/plain": [
       "<IPython.core.display.HTML object>"
      ]
     },
     "metadata": {},
     "output_type": "display_data"
    },
    {
     "name": "stdout",
     "output_type": "stream",
     "text": [
      "Honeydew (240, 255, 240)\n"
     ]
    },
    {
     "data": {
      "text/html": [
       "<div style=\"height: 60px; min-width: 200px; background-color: rgb(240, 255, 240)\"></div>"
      ],
      "text/plain": [
       "<IPython.core.display.HTML object>"
      ]
     },
     "metadata": {},
     "output_type": "display_data"
    },
    {
     "name": "stdout",
     "output_type": "stream",
     "text": [
      "OldLace (253, 245, 230)\n"
     ]
    },
    {
     "data": {
      "text/html": [
       "<div style=\"height: 60px; min-width: 200px; background-color: rgb(253, 245, 230)\"></div>"
      ],
      "text/plain": [
       "<IPython.core.display.HTML object>"
      ]
     },
     "metadata": {},
     "output_type": "display_data"
    },
    {
     "name": "stdout",
     "output_type": "stream",
     "text": [
      "BurlyWood (222, 184, 135)\n"
     ]
    },
    {
     "data": {
      "text/html": [
       "<div style=\"height: 60px; min-width: 200px; background-color: rgb(222, 184, 135)\"></div>"
      ],
      "text/plain": [
       "<IPython.core.display.HTML object>"
      ]
     },
     "metadata": {},
     "output_type": "display_data"
    },
    {
     "name": "stdout",
     "output_type": "stream",
     "text": [
      "DarkTurquoise (0, 206, 209)\n"
     ]
    },
    {
     "data": {
      "text/html": [
       "<div style=\"height: 60px; min-width: 200px; background-color: rgb(0, 206, 209)\"></div>"
      ],
      "text/plain": [
       "<IPython.core.display.HTML object>"
      ]
     },
     "metadata": {},
     "output_type": "display_data"
    },
    {
     "name": "stdout",
     "output_type": "stream",
     "text": [
      "MediumBlue (0, 0, 205)\n"
     ]
    },
    {
     "data": {
      "text/html": [
       "<div style=\"height: 60px; min-width: 200px; background-color: rgb(0, 0, 205)\"></div>"
      ],
      "text/plain": [
       "<IPython.core.display.HTML object>"
      ]
     },
     "metadata": {},
     "output_type": "display_data"
    },
    {
     "name": "stdout",
     "output_type": "stream",
     "text": [
      "Sienna (160, 82, 45)\n"
     ]
    },
    {
     "data": {
      "text/html": [
       "<div style=\"height: 60px; min-width: 200px; background-color: rgb(160, 82, 45)\"></div>"
      ],
      "text/plain": [
       "<IPython.core.display.HTML object>"
      ]
     },
     "metadata": {},
     "output_type": "display_data"
    },
    {
     "name": "stdout",
     "output_type": "stream",
     "text": [
      "Lime (0, 255, 0)\n"
     ]
    },
    {
     "data": {
      "text/html": [
       "<div style=\"height: 60px; min-width: 200px; background-color: rgb(0, 255, 0)\"></div>"
      ],
      "text/plain": [
       "<IPython.core.display.HTML object>"
      ]
     },
     "metadata": {},
     "output_type": "display_data"
    },
    {
     "name": "stdout",
     "output_type": "stream",
     "text": [
      "Magenta (255, 0, 255)\n"
     ]
    },
    {
     "data": {
      "text/html": [
       "<div style=\"height: 60px; min-width: 200px; background-color: rgb(255, 0, 255)\"></div>"
      ],
      "text/plain": [
       "<IPython.core.display.HTML object>"
      ]
     },
     "metadata": {},
     "output_type": "display_data"
    },
    {
     "name": "stdout",
     "output_type": "stream",
     "text": [
      "LightPink (255, 182, 193)\n"
     ]
    },
    {
     "data": {
      "text/html": [
       "<div style=\"height: 60px; min-width: 200px; background-color: rgb(255, 182, 193)\"></div>"
      ],
      "text/plain": [
       "<IPython.core.display.HTML object>"
      ]
     },
     "metadata": {},
     "output_type": "display_data"
    },
    {
     "name": "stdout",
     "output_type": "stream",
     "text": [
      "LightYellow (255, 255, 224)\n"
     ]
    },
    {
     "data": {
      "text/html": [
       "<div style=\"height: 60px; min-width: 200px; background-color: rgb(255, 255, 224)\"></div>"
      ],
      "text/plain": [
       "<IPython.core.display.HTML object>"
      ]
     },
     "metadata": {},
     "output_type": "display_data"
    },
    {
     "name": "stdout",
     "output_type": "stream",
     "text": [
      "LightCoral (240, 128, 128)\n"
     ]
    },
    {
     "data": {
      "text/html": [
       "<div style=\"height: 60px; min-width: 200px; background-color: rgb(240, 128, 128)\"></div>"
      ],
      "text/plain": [
       "<IPython.core.display.HTML object>"
      ]
     },
     "metadata": {},
     "output_type": "display_data"
    },
    {
     "name": "stdout",
     "output_type": "stream",
     "text": [
      "DarkOliveGreen (85, 107, 47)\n"
     ]
    },
    {
     "data": {
      "text/html": [
       "<div style=\"height: 60px; min-width: 200px; background-color: rgb(85, 107, 47)\"></div>"
      ],
      "text/plain": [
       "<IPython.core.display.HTML object>"
      ]
     },
     "metadata": {},
     "output_type": "display_data"
    },
    {
     "name": "stdout",
     "output_type": "stream",
     "text": [
      "DarkSalmon (233, 150, 122)\n"
     ]
    },
    {
     "data": {
      "text/html": [
       "<div style=\"height: 60px; min-width: 200px; background-color: rgb(233, 150, 122)\"></div>"
      ],
      "text/plain": [
       "<IPython.core.display.HTML object>"
      ]
     },
     "metadata": {},
     "output_type": "display_data"
    },
    {
     "name": "stdout",
     "output_type": "stream",
     "text": [
      "MintCream (245, 255, 250)\n"
     ]
    },
    {
     "data": {
      "text/html": [
       "<div style=\"height: 60px; min-width: 200px; background-color: rgb(245, 255, 250)\"></div>"
      ],
      "text/plain": [
       "<IPython.core.display.HTML object>"
      ]
     },
     "metadata": {},
     "output_type": "display_data"
    },
    {
     "name": "stdout",
     "output_type": "stream",
     "text": [
      "MediumSeaGreen (60, 179, 113)\n"
     ]
    },
    {
     "data": {
      "text/html": [
       "<div style=\"height: 60px; min-width: 200px; background-color: rgb(60, 179, 113)\"></div>"
      ],
      "text/plain": [
       "<IPython.core.display.HTML object>"
      ]
     },
     "metadata": {},
     "output_type": "display_data"
    },
    {
     "name": "stdout",
     "output_type": "stream",
     "text": [
      "Turquoise (64, 224, 208)\n"
     ]
    },
    {
     "data": {
      "text/html": [
       "<div style=\"height: 60px; min-width: 200px; background-color: rgb(64, 224, 208)\"></div>"
      ],
      "text/plain": [
       "<IPython.core.display.HTML object>"
      ]
     },
     "metadata": {},
     "output_type": "display_data"
    },
    {
     "name": "stdout",
     "output_type": "stream",
     "text": [
      "Silver (192, 192, 192)\n"
     ]
    },
    {
     "data": {
      "text/html": [
       "<div style=\"height: 60px; min-width: 200px; background-color: rgb(192, 192, 192)\"></div>"
      ],
      "text/plain": [
       "<IPython.core.display.HTML object>"
      ]
     },
     "metadata": {},
     "output_type": "display_data"
    },
    {
     "name": "stdout",
     "output_type": "stream",
     "text": [
      "Moccasin (255, 228, 181)\n"
     ]
    },
    {
     "data": {
      "text/html": [
       "<div style=\"height: 60px; min-width: 200px; background-color: rgb(255, 228, 181)\"></div>"
      ],
      "text/plain": [
       "<IPython.core.display.HTML object>"
      ]
     },
     "metadata": {},
     "output_type": "display_data"
    },
    {
     "name": "stdout",
     "output_type": "stream",
     "text": [
      "YellowGreen (154, 205, 50)\n"
     ]
    },
    {
     "data": {
      "text/html": [
       "<div style=\"height: 60px; min-width: 200px; background-color: rgb(154, 205, 50)\"></div>"
      ],
      "text/plain": [
       "<IPython.core.display.HTML object>"
      ]
     },
     "metadata": {},
     "output_type": "display_data"
    },
    {
     "name": "stdout",
     "output_type": "stream",
     "text": [
      "Coral (255, 127, 80)\n"
     ]
    },
    {
     "data": {
      "text/html": [
       "<div style=\"height: 60px; min-width: 200px; background-color: rgb(255, 127, 80)\"></div>"
      ],
      "text/plain": [
       "<IPython.core.display.HTML object>"
      ]
     },
     "metadata": {},
     "output_type": "display_data"
    },
    {
     "name": "stdout",
     "output_type": "stream",
     "text": [
      "Red (255, 0, 0)\n"
     ]
    },
    {
     "data": {
      "text/html": [
       "<div style=\"height: 60px; min-width: 200px; background-color: rgb(255, 0, 0)\"></div>"
      ],
      "text/plain": [
       "<IPython.core.display.HTML object>"
      ]
     },
     "metadata": {},
     "output_type": "display_data"
    },
    {
     "name": "stdout",
     "output_type": "stream",
     "text": [
      "PaleGoldenrod (238, 232, 170)\n"
     ]
    },
    {
     "data": {
      "text/html": [
       "<div style=\"height: 60px; min-width: 200px; background-color: rgb(238, 232, 170)\"></div>"
      ],
      "text/plain": [
       "<IPython.core.display.HTML object>"
      ]
     },
     "metadata": {},
     "output_type": "display_data"
    },
    {
     "name": "stdout",
     "output_type": "stream",
     "text": [
      "LawnGreen (124, 252, 0)\n"
     ]
    },
    {
     "data": {
      "text/html": [
       "<div style=\"height: 60px; min-width: 200px; background-color: rgb(124, 252, 0)\"></div>"
      ],
      "text/plain": [
       "<IPython.core.display.HTML object>"
      ]
     },
     "metadata": {},
     "output_type": "display_data"
    },
    {
     "name": "stdout",
     "output_type": "stream",
     "text": [
      "SteelBlue (70, 130, 180)\n"
     ]
    },
    {
     "data": {
      "text/html": [
       "<div style=\"height: 60px; min-width: 200px; background-color: rgb(70, 130, 180)\"></div>"
      ],
      "text/plain": [
       "<IPython.core.display.HTML object>"
      ]
     },
     "metadata": {},
     "output_type": "display_data"
    },
    {
     "name": "stdout",
     "output_type": "stream",
     "text": [
      "Aquamarine (127, 255, 212)\n"
     ]
    },
    {
     "data": {
      "text/html": [
       "<div style=\"height: 60px; min-width: 200px; background-color: rgb(127, 255, 212)\"></div>"
      ],
      "text/plain": [
       "<IPython.core.display.HTML object>"
      ]
     },
     "metadata": {},
     "output_type": "display_data"
    }
   ],
   "source": [
    "for color in colors:\n",
    "    name = color\n",
    "    RGB = colors[color]\n",
    "    print(name, RGB)\n",
    "    show_color(RGB[0], RGB[1], RGB[2])"
   ]
  },
  {
   "cell_type": "code",
   "execution_count": null,
   "metadata": {
    "collapsed": false
   },
   "outputs": [],
   "source": []
  },
  {
   "cell_type": "code",
   "execution_count": null,
   "metadata": {
    "collapsed": true
   },
   "outputs": [],
   "source": []
  }
 ],
 "metadata": {
  "kernelspec": {
   "display_name": "Python 3",
   "language": "python",
   "name": "python3"
  },
  "language_info": {
   "codemirror_mode": {
    "name": "ipython",
    "version": 3
   },
   "file_extension": ".py",
   "mimetype": "text/x-python",
   "name": "python",
   "nbconvert_exporter": "python",
   "pygments_lexer": "ipython3",
   "version": "3.5.1"
  }
 },
 "nbformat": 4,
 "nbformat_minor": 0
}
