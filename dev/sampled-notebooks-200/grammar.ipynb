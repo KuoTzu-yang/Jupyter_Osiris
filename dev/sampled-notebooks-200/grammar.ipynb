{
 "cells": [
  {
   "cell_type": "code",
   "execution_count": 1,
   "metadata": {
    "collapsed": true
   },
   "outputs": [],
   "source": [
    "import random"
   ]
  },
  {
   "cell_type": "markdown",
   "metadata": {},
   "source": [
    "One way to understand the structure of [syllables](https://en.wikipedia.org/wiki/Syllable) is with [context free grammars](https://en.wikipedia.org/wiki/Context-free_grammar). A context free grammar is a set of production rules that maps symbolic tokens, called *non-terminal* symbols, to strings made up of other symbols. By repeatedly applying these rules until every non-terminal has been replaced by literal strings of *terminal* symbols, we can generate strings belonging to the [context free language](https://en.wikipedia.org/wiki/Context-free_language) of the grammar.\n",
    "\n",
    "For example, this is grammar might be used to represent the syntax of a an individual syllable in a word:"
   ]
  },
  {
   "cell_type": "code",
   "execution_count": 2,
   "metadata": {
    "collapsed": true
   },
   "outputs": [],
   "source": [
    "syllables = {\n",
    "    \"Syllable\" : [\"Rime\", \"Onset Rime\"],\n",
    "    \"Rime\" : [\"Nucleus\", \"Nucleus Coda\"],\n",
    "    \"Onset\" : [\"Consonant\"],\n",
    "    \"Nucleus\" : [\"Vowel\", \"Vowel Vowel\"],\n",
    "    \"Coda\" : [\"Consonant\", \"Cluster\"],\n",
    "    \"Consonant\" : [\"b\", \"p\", \"g\", \"k\", \"t\", \"d\", \"s\", \"z\", \"m\", \"n\"],\n",
    "    \"Vowel\" : [\"a\", \"e\", \"i\", \"o\"],\n",
    "    \"Cluster\" : [\"ts\", \"ks\"],\n",
    "}"
   ]
  },
  {
   "cell_type": "markdown",
   "metadata": {},
   "source": [
    "To generate a word that belongs to this language, we start with a list containing one initial non-terminal symbol, `[\"Syllable\"]`, and randomly extend the list according to the rules of the grammar.\n",
    "\n",
    "Every non-terminal maps to at least one string of other symbols, some of which are themselves non-terminal. These non-terminals can be expanded into sub-words by recursively applying the grammar's production rules to each of them. When the list contains only terminal symbols, we can stop and return the resulting word:"
   ]
  },
  {
   "cell_type": "code",
   "execution_count": 3,
   "metadata": {
    "collapsed": false
   },
   "outputs": [],
   "source": [
    "def generate_word(grammar, start, word=[]):\n",
    "    if word == []:\n",
    "        word = [start]\n",
    "    \n",
    "    for i, symbol in enumerate(word):\n",
    "        if symbol in grammar:\n",
    "            subwords = random.choice(grammar[symbol]).split()\n",
    "            word[i] = generate_word(grammar, None, subwords)\n",
    "    \n",
    "    return word"
   ]
  },
  {
   "cell_type": "markdown",
   "metadata": {},
   "source": [
    "`generate_word` returns a nested list, which preserves the structure of the word's parse tree. However, it's also useful to be able to flatten the result into a single list of symbols:"
   ]
  },
  {
   "cell_type": "code",
   "execution_count": 4,
   "metadata": {
    "collapsed": true
   },
   "outputs": [],
   "source": [
    "def flatten(lst):\n",
    "    flat = []\n",
    "    \n",
    "    for item in lst:\n",
    "        if isinstance(item, list):\n",
    "            flat.extend(flatten(item))\n",
    "        else:\n",
    "            flat.append(item)\n",
    "            \n",
    "    return flat"
   ]
  },
  {
   "cell_type": "markdown",
   "metadata": {},
   "source": [
    "Now we can generate syllables, which end up looking like short pronouncable gibberish:"
   ]
  },
  {
   "cell_type": "code",
   "execution_count": 5,
   "metadata": {
    "collapsed": false
   },
   "outputs": [
    {
     "name": "stdout",
     "output_type": "stream",
     "text": [
      "o\n",
      "ae\n",
      "di\n",
      "kod\n",
      "zi\n",
      "a\n",
      "zoots\n",
      "ki\n",
      "ed\n",
      "gi\n"
     ]
    }
   ],
   "source": [
    "for _ in range(10):\n",
    "    word = generate_word(syllables, \"Syllable\")\n",
    "    print(''.join(flatten(word)))"
   ]
  },
  {
   "cell_type": "markdown",
   "metadata": {},
   "source": [
    "It's worth pointing out that our syllable grammar is non recursive; none of the production rules ever expands a non-terminal into a string that contains itself. This limits the grammar to a finite number of possible results; for syllables, this is exactly what we want!\n",
    "\n",
    "For a simple example of a recursive grammar, we could extend the previous grammar to produce random words from our syllables:"
   ]
  },
  {
   "cell_type": "code",
   "execution_count": 6,
   "metadata": {
    "collapsed": false
   },
   "outputs": [
    {
     "name": "stdout",
     "output_type": "stream",
     "text": [
      "ats-ep-ez\n",
      "ots-o-oa-o-e\n",
      "its-nee-ie-zeit-ze\n",
      "en-ob\n",
      "mats-ok\n",
      "i-ge-pa\n",
      "kiiks-zet-keots-naots-gi\n",
      "ots-bei-ob-i\n",
      "pei-sits\n",
      "ots-sots\n"
     ]
    }
   ],
   "source": [
    "words = {\n",
    "    # here we say a word must have at least two syllables\n",
    "    \"Word\" : [\"Syllable - Word\", \"Syllable - Syllable\"],\n",
    "}\n",
    "\n",
    "words.update(syllables)\n",
    "\n",
    "for _ in range(10):\n",
    "    word = generate_word(words, \"Word\")\n",
    "    print(''.join(flatten(word)))"
   ]
  },
  {
   "cell_type": "markdown",
   "metadata": {},
   "source": [
    "Of course, formal grammars are applicable to natural language in general. As more complicated example, we could try to describe a subset of the English language with a context free grammar. In reality, English is context sensitive, so this approach isn't strong enough to produce sentences that are always grammatically correct, but we can create rough approximations which are at least recognizable to English speakers:"
   ]
  },
  {
   "cell_type": "code",
   "execution_count": 7,
   "metadata": {
    "collapsed": false
   },
   "outputs": [
    {
     "name": "stdout",
     "output_type": "stream",
     "text": [
      "the car claims\n",
      "month whispers\n",
      "the ink increases the cruel quick duck\n",
      "an confused repulsive thick fancy petite sister taps\n",
      "vein wanders\n",
      "an addicted empty afternoon wriggles on thing\n",
      "iron claims a dog\n",
      "burly assorted duck occurs a page\n",
      "ink educates a noise\n",
      "thick kindhearted clam performs in addicted rightful frog\n"
     ]
    }
   ],
   "source": [
    "english = {\n",
    "    \"Sentence\" : [\n",
    "        \"NounPhrase VerbPhrase\"\n",
    "    ],\n",
    "    \"NounPhrase\" : [\n",
    "        \"Article QualifiedNoun\", \"QualifiedNoun\"\n",
    "    ],\n",
    "    \"VerbPhrase\" : [\n",
    "        \"Verb Preposition NounPhrase\", \"Verb Article QualifiedNoun\", \"Verb\"\n",
    "    ],\n",
    "    \"QualifiedNoun\" : [\n",
    "        \"Adjective QualifiedNoun\", \"Noun\"\n",
    "    ],\n",
    "    \"Article\" : [\n",
    "        \"a\", \"an\", \"the\"\n",
    "    ],\n",
    "    \"Preposition\" : [\n",
    "        \"in\", \"of\", \"on\", \"over\", \"who\"\n",
    "    ],\n",
    "    \"Noun\" : [\n",
    "        'actor', 'afternoon', 'appliance', 'bottle', 'box', 'bulb', 'bush',\n",
    "        'car', 'clam', 'club', 'coal', 'committee', 'cushion', 'doctor', 'dog',\n",
    "        'duck', 'earthquake', 'father', 'fox', 'frog', 'god', 'hall', 'hall',\n",
    "        'harmony', 'horse', 'ink', 'iron', 'knot', 'money', 'month', 'noise',\n",
    "        'number', 'page', 'ring', 'road', 'robin', 'roof', 'shade', 'shirt',\n",
    "        'sister', 'snake', 'sneeze', 'tent', 'test', 'thing', 'tomato',\n",
    "        'toothbrush', 'truck', 'vein'\n",
    "    ],\n",
    "    \"Adjective\" : [\n",
    "        'addicted', 'afraid', 'angry', 'assorted', 'beneficial', 'black',\n",
    "        'brave', 'burly', 'closed', 'confused', 'creepy','cruel', 'dazzling',\n",
    "        'diligent', 'dramatic', 'elegant','empty', 'fancy', 'flowery', 'furry',\n",
    "        'fuzzy', 'gigantic','grubby', 'hallowed', 'heavenly', 'jobless',\n",
    "        'juicy', 'kindhearted', 'laughable', 'lewd', 'ludicrous', 'maniacal',\n",
    "        'muddled', 'petite', 'quick', 'reflective', 'repulsive', 'rightful',\n",
    "        'scandalous', 'scarce', 'tasty', 'thick', 'tremendous', 'unknown',\n",
    "        'unsightly', 'young'\n",
    "    ],\n",
    "    \"Verb\" : [\n",
    "        'attracts', 'carves', 'claims', 'collects', 'compares', 'concerns',\n",
    "        'destroys', 'disapproves', 'educates', 'exists', 'extends', 'grips',\n",
    "        'hugs', 'includes', 'increases', 'is', 'jumps', 'lightens', 'obeys',\n",
    "        'occurs', 'performs', 'points', 'receives', 'recognises', 'soothes',\n",
    "        'spills', 'taps', 'teases', 'traps', 'wails', 'wanders', 'whispers',\n",
    "        'wonders', 'wriggles'\n",
    "    ]\n",
    "}\n",
    "\n",
    "for _ in range(10):\n",
    "    sentence = generate_word(english, \"Sentence\")\n",
    "    print(' '.join(flatten(sentence)))"
   ]
  },
  {
   "cell_type": "code",
   "execution_count": null,
   "metadata": {
    "collapsed": true
   },
   "outputs": [],
   "source": []
  }
 ],
 "metadata": {
  "kernelspec": {
   "display_name": "Python 3",
   "language": "python",
   "name": "python3"
  },
  "language_info": {
   "codemirror_mode": {
    "name": "ipython",
    "version": 3
   },
   "file_extension": ".py",
   "mimetype": "text/x-python",
   "name": "python",
   "nbconvert_exporter": "python",
   "pygments_lexer": "ipython3",
   "version": "3.5.1"
  }
 },
 "nbformat": 4,
 "nbformat_minor": 0
}
