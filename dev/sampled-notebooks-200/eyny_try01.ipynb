{
 "cells": [
  {
   "cell_type": "code",
   "execution_count": 1,
   "metadata": {},
   "outputs": [
    {
     "name": "stdout",
     "output_type": "stream",
     "text": [
      "Start parsing eynyMovie....\n"
     ]
    },
    {
     "data": {
      "text/plain": [
       "'[美]E.T. 外星人 The Extra-Terrestrial BDRip-1080p(MKV@9G@GD@繁中)(8P)\\nhttp://www.eyny.com/thread-11444375-1-3DN3CFFH.html\\n\\n[日]老師與流浪貓/Finding Calico/先生と迷い貓-720P(MP4@1.26G@MEGA@繁中)(6P)\\nhttp://www.eyny.com/thread-10885461-1-3DN3CFFH.html\\n\\n[美]怪獸與牠們的產地/神奇動物在哪裡 BluRay 1080P (MP4@2.53GB@MEGA@台灣電影院官方字幕)(3P)\\nhttp://www.eyny.com/thread-11212572-1-3DN3CFFH.html\\n\\n[美]怪物 / 科學怪人：創生之父(港) Victor Frankenstein.2015.BDRip-1080p (MKV@2G@Mega/YU@繁中)(2P)\\nhttp://www.eyny.com/thread-10785768-1-3DN3CFFH.html\\n\\n[歐] 怪物來敲門 A Monster Calls WEB-DL-720P(MKV@949M@MG@台版繁體)(8P)\\nhttp://www.eyny.com/thread-11227899-1-3DN3CFFH.html\\n\\n[陸]天將雄師 Drgaon Blade BDrip-1080P(MKV@1.8G@GD@藍光繁中)(2P)\\nhttp://www.eyny.com/thread-10369232-1-3DN3CFFH.html\\n\\n[美] 我們的故事未完待續 / 初戀有病.2015.WebRip-720P(MKV@650MB@Mega@繁簡)(5P)\\nhttp://www.eyny.com/thread-10579172-1-3DN3CFFH.html\\n\\n'"
      ]
     },
     "execution_count": 1,
     "metadata": {},
     "output_type": "execute_result"
    }
   ],
   "source": [
    "import requests\n",
    "import re\n",
    "from bs4 import BeautifulSoup\n",
    "\n",
    "def pattern_mega(text):\n",
    "    patterns = [\n",
    "        'mega', 'mg', 'mu', 'ＭＥＧＡ', 'ＭＥ', 'ＭＵ',\n",
    "        'ｍｅ', 'ｍｕ', 'ｍｅｇａ', 'GD', 'MG', 'google',\n",
    "    ]\n",
    "    for pattern in patterns:\n",
    "        if re.search(pattern, text, re.IGNORECASE):\n",
    "            return True\n",
    "        \n",
    "def eyny_movie():\n",
    "    target_url = 'http://www.eyny.com/forum-205-1.html'\n",
    "    print('Start parsing eynyMovie....')\n",
    "    rs = requests.session()\n",
    "    res = rs.get(target_url, verify=False)\n",
    "    soup = BeautifulSoup(res.text, 'html.parser')\n",
    "    content = ''\n",
    "    for titleURL in soup.select('.bm_c tbody .xst'):\n",
    "        if pattern_mega(titleURL.text):\n",
    "            title = titleURL.text\n",
    "            if '11379780-1-3' in titleURL['href']:\n",
    "                continue\n",
    "            link = 'http://www.eyny.com/' + titleURL['href']\n",
    "            data = '{}\\n{}\\n\\n'.format(title, link)\n",
    "            content += data\n",
    "            \n",
    "\n",
    "    return content\n",
    "    \n",
    "\n",
    "eyny_movie()\n",
    "\n"
   ]
  },
  {
   "cell_type": "code",
   "execution_count": null,
   "metadata": {},
   "outputs": [],
   "source": []
  }
 ],
 "metadata": {
  "kernelspec": {
   "display_name": "Python 3",
   "language": "python",
   "name": "python3"
  },
  "language_info": {
   "codemirror_mode": {
    "name": "ipython",
    "version": 3
   },
   "file_extension": ".py",
   "mimetype": "text/x-python",
   "name": "python",
   "nbconvert_exporter": "python",
   "pygments_lexer": "ipython3",
   "version": "3.5.3"
  }
 },
 "nbformat": 4,
 "nbformat_minor": 1
}
